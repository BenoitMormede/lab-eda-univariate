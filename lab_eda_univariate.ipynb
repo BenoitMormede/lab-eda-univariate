{
 "cells": [
  {
   "cell_type": "code",
   "execution_count": null,
   "id": "a49cc1a4-528b-480d-84b0-edeb77f5c739",
   "metadata": {},
   "outputs": [],
   "source": [
    "\"\"\"Part 1: Understanding Product Categories\n",
    "\n",
    "Business Question: What are the most popular product categories on Amazon UK, and how do they compare in terms of listing frequency?\n",
    "\n",
    "    Frequency Tables:\n",
    "        Generate a frequency table for the product category.\n",
    "        Which are the top 5 most listed product categories?\n",
    "\n",
    "    Visualizations:\n",
    "        Display the distribution of products across different categories using a bar chart. If you face problems understanding the chart,\n",
    "        do it for a subset of top categories.\n",
    "        For a subset of top categories, visualize their proportions using a pie chart. Does any category dominate the listings?\"\"\"\n"
   ]
  },
  {
   "cell_type": "code",
   "execution_count": 128,
   "id": "fb91e1a3-c6fb-41a3-bb99-f3755e621991",
   "metadata": {},
   "outputs": [],
   "source": [
    "import pandas as pd\n",
    "import matplotlib.pyplot as plt\n",
    "import seaborn as sns\n",
    "import numpy as np\n",
    "%matplotlib inline\n"
   ]
  },
  {
   "cell_type": "code",
   "execution_count": 5,
   "id": "41587bff-d2f6-46d8-af7d-e7795573fb45",
   "metadata": {},
   "outputs": [],
   "source": [
    "# Loading the housing price dataset (assuming the file name is \"housing_price.csv\")\n",
    "df = pd.read_csv('/Users/benoi/Documents/IronHack/Week_5/lab-eda-univariate/amz_uk_price_prediction_dataset.csv')"
   ]
  },
  {
   "cell_type": "code",
   "execution_count": 11,
   "id": "faa9f2c7-5d20-4059-97bf-e0efb272a035",
   "metadata": {},
   "outputs": [
    {
     "data": {
      "text/html": [
       "<div>\n",
       "<style scoped>\n",
       "    .dataframe tbody tr th:only-of-type {\n",
       "        vertical-align: middle;\n",
       "    }\n",
       "\n",
       "    .dataframe tbody tr th {\n",
       "        vertical-align: top;\n",
       "    }\n",
       "\n",
       "    .dataframe thead th {\n",
       "        text-align: right;\n",
       "    }\n",
       "</style>\n",
       "<table border=\"1\" class=\"dataframe\">\n",
       "  <thead>\n",
       "    <tr style=\"text-align: right;\">\n",
       "      <th></th>\n",
       "      <th>uid</th>\n",
       "      <th>asin</th>\n",
       "      <th>title</th>\n",
       "      <th>stars</th>\n",
       "      <th>reviews</th>\n",
       "      <th>price</th>\n",
       "      <th>isBestSeller</th>\n",
       "      <th>boughtInLastMonth</th>\n",
       "      <th>category</th>\n",
       "    </tr>\n",
       "  </thead>\n",
       "  <tbody>\n",
       "    <tr>\n",
       "      <th>0</th>\n",
       "      <td>1</td>\n",
       "      <td>B09B96TG33</td>\n",
       "      <td>Echo Dot (5th generation, 2022 release) | Big ...</td>\n",
       "      <td>4.7</td>\n",
       "      <td>15308</td>\n",
       "      <td>21.99</td>\n",
       "      <td>False</td>\n",
       "      <td>0</td>\n",
       "      <td>Hi-Fi Speakers</td>\n",
       "    </tr>\n",
       "    <tr>\n",
       "      <th>1</th>\n",
       "      <td>2</td>\n",
       "      <td>B01HTH3C8S</td>\n",
       "      <td>Anker Soundcore mini, Super-Portable Bluetooth...</td>\n",
       "      <td>4.7</td>\n",
       "      <td>98099</td>\n",
       "      <td>23.99</td>\n",
       "      <td>True</td>\n",
       "      <td>0</td>\n",
       "      <td>Hi-Fi Speakers</td>\n",
       "    </tr>\n",
       "    <tr>\n",
       "      <th>2</th>\n",
       "      <td>3</td>\n",
       "      <td>B09B8YWXDF</td>\n",
       "      <td>Echo Dot (5th generation, 2022 release) | Big ...</td>\n",
       "      <td>4.7</td>\n",
       "      <td>15308</td>\n",
       "      <td>21.99</td>\n",
       "      <td>False</td>\n",
       "      <td>0</td>\n",
       "      <td>Hi-Fi Speakers</td>\n",
       "    </tr>\n",
       "    <tr>\n",
       "      <th>3</th>\n",
       "      <td>4</td>\n",
       "      <td>B09B8T5VGV</td>\n",
       "      <td>Echo Dot with clock (5th generation, 2022 rele...</td>\n",
       "      <td>4.7</td>\n",
       "      <td>7205</td>\n",
       "      <td>31.99</td>\n",
       "      <td>False</td>\n",
       "      <td>0</td>\n",
       "      <td>Hi-Fi Speakers</td>\n",
       "    </tr>\n",
       "    <tr>\n",
       "      <th>4</th>\n",
       "      <td>5</td>\n",
       "      <td>B09WX6QD65</td>\n",
       "      <td>Introducing Echo Pop | Full sound compact Wi-F...</td>\n",
       "      <td>4.6</td>\n",
       "      <td>1881</td>\n",
       "      <td>17.99</td>\n",
       "      <td>False</td>\n",
       "      <td>0</td>\n",
       "      <td>Hi-Fi Speakers</td>\n",
       "    </tr>\n",
       "  </tbody>\n",
       "</table>\n",
       "</div>"
      ],
      "text/plain": [
       "   uid        asin                                              title  stars  \\\n",
       "0    1  B09B96TG33  Echo Dot (5th generation, 2022 release) | Big ...    4.7   \n",
       "1    2  B01HTH3C8S  Anker Soundcore mini, Super-Portable Bluetooth...    4.7   \n",
       "2    3  B09B8YWXDF  Echo Dot (5th generation, 2022 release) | Big ...    4.7   \n",
       "3    4  B09B8T5VGV  Echo Dot with clock (5th generation, 2022 rele...    4.7   \n",
       "4    5  B09WX6QD65  Introducing Echo Pop | Full sound compact Wi-F...    4.6   \n",
       "\n",
       "   reviews  price  isBestSeller  boughtInLastMonth        category  \n",
       "0    15308  21.99         False                  0  Hi-Fi Speakers  \n",
       "1    98099  23.99          True                  0  Hi-Fi Speakers  \n",
       "2    15308  21.99         False                  0  Hi-Fi Speakers  \n",
       "3     7205  31.99         False                  0  Hi-Fi Speakers  \n",
       "4     1881  17.99         False                  0  Hi-Fi Speakers  "
      ]
     },
     "execution_count": 11,
     "metadata": {},
     "output_type": "execute_result"
    }
   ],
   "source": [
    "df.head()"
   ]
  },
  {
   "cell_type": "code",
   "execution_count": 15,
   "id": "3bc24462-50b7-4491-8658-1c127b900de7",
   "metadata": {},
   "outputs": [
    {
     "data": {
      "text/plain": [
       "(2443651, 9)"
      ]
     },
     "execution_count": 15,
     "metadata": {},
     "output_type": "execute_result"
    }
   ],
   "source": [
    "df.shape"
   ]
  },
  {
   "cell_type": "code",
   "execution_count": 41,
   "id": "66339c84-9c29-4ab5-9d96-66d0e7717020",
   "metadata": {},
   "outputs": [
    {
     "data": {
      "text/plain": [
       "uid                    int64\n",
       "asin                  object\n",
       "title                 object\n",
       "stars                float64\n",
       "reviews                int64\n",
       "price                float64\n",
       "isBestSeller            bool\n",
       "boughtInLastMonth      int64\n",
       "category              object\n",
       "dtype: object"
      ]
     },
     "execution_count": 41,
     "metadata": {},
     "output_type": "execute_result"
    }
   ],
   "source": [
    "df.dtypes"
   ]
  },
  {
   "cell_type": "code",
   "execution_count": 33,
   "id": "2ac9a0c1-2a1c-4c58-8e89-198dd84f8c82",
   "metadata": {},
   "outputs": [
    {
     "data": {
      "text/plain": [
       "category\n",
       "Sports & Outdoors                         836265\n",
       "Beauty                                     19312\n",
       "Handmade Clothing, Shoes & Accessories     19229\n",
       "Bath & Body                                19092\n",
       "Birthday Gifts                             18978\n",
       "Name: count, dtype: int64"
      ]
     },
     "execution_count": 33,
     "metadata": {},
     "output_type": "execute_result"
    }
   ],
   "source": [
    "frequency_table = df['category'].value_counts()\n",
    "proportion_table = df['category'].value_counts(normalize=True).round(2)*100\n",
    "frequency_table.head(5) #display the top 5 product categories\n",
    "# there is a very large gap between top1 and top2 in the frequency table"
   ]
  },
  {
   "cell_type": "code",
   "execution_count": 35,
   "id": "d46bd38a-14f9-44a2-b676-b1cf325ff5d6",
   "metadata": {},
   "outputs": [
    {
     "data": {
      "text/plain": [
       "category\n",
       "Sports & Outdoors                         34.0\n",
       "Beauty                                     1.0\n",
       "Handmade Clothing, Shoes & Accessories     1.0\n",
       "Bath & Body                                1.0\n",
       "Birthday Gifts                             1.0\n",
       "Name: proportion, dtype: float64"
      ]
     },
     "execution_count": 35,
     "metadata": {},
     "output_type": "execute_result"
    }
   ],
   "source": [
    "proportion_table.head(5) #display the top 5 product categories in %"
   ]
  },
  {
   "cell_type": "code",
   "execution_count": 45,
   "id": "df398ac3-a176-4e95-a546-1caaa952dfec",
   "metadata": {},
   "outputs": [
    {
     "name": "stderr",
     "output_type": "stream",
     "text": [
      "C:\\Users\\benoi\\AppData\\Local\\Temp\\ipykernel_17148\\2623165280.py:2: FutureWarning: \n",
      "\n",
      "Passing `palette` without assigning `hue` is deprecated and will be removed in v0.14.0. Assign the `x` variable to `hue` and set `legend=False` for the same effect.\n",
      "\n",
      "  sns.barplot(x=top_5.index, y=top_5.values, palette=\"Set3\")\n"
     ]
    },
    {
     "data": {
      "text/plain": [
       "<Axes: xlabel='category'>"
      ]
     },
     "execution_count": 45,
     "metadata": {},
     "output_type": "execute_result"
    },
    {
     "data": {
      "image/png": "[encoded data removed]",
      "text/plain": [
       "<Figure size 640x480 with 1 Axes>"
      ]
     },
     "metadata": {},
     "output_type": "display_data"
    }
   ],
   "source": [
    "top_5 = frequency_table.nlargest(5)\n",
    "sns.barplot(x=top_5.index, y=top_5.values, palette=\"Set3\") #display a bar chart for the top 5 categories"
   ]
  },
  {
   "cell_type": "code",
   "execution_count": 56,
   "id": "0299702a-3170-444f-b077-8082cadbe0c1",
   "metadata": {},
   "outputs": [
    {
     "data": {
      "text/plain": [
       "<Axes: ylabel='count'>"
      ]
     },
     "execution_count": 56,
     "metadata": {},
     "output_type": "execute_result"
    },
    {
     "data": {
      "image/png": "[encoded data removed]",
      "text/plain": [
       "<Figure size 640x480 with 1 Axes>"
      ]
     },
     "metadata": {},
     "output_type": "display_data"
    }
   ],
   "source": [
    "top_5.plot.pie(autopct='%1.1f%%', startangle=90, colors=sns.color_palette(\"Set3\")) #display a pie chart of the top 5 categories\n",
    "#category sport & outdoors is by far the largest representing 91.6% of the top 5 categories"
   ]
  },
  {
   "cell_type": "code",
   "execution_count": null,
   "id": "abf6fa91-ecf0-46f3-9bc4-c09653b29fff",
   "metadata": {},
   "outputs": [],
   "source": [
    "\"\"\"Part 2: Delving into Product Pricing\n",
    "\n",
    "Business Question: How are products priced on Amazon UK, and are there specific price points or ranges that are more common?\n",
    "\n",
    "    Measures of Centrality:\n",
    "        Calculate the mean, median, and mode for the price of products.\n",
    "        What's the average price point of products listed? How does this compare with the most common price point (mode)?\n",
    "\n",
    "    Measures of Dispersion:\n",
    "        Determine the variance, standard deviation, range, and interquartile range for product price.\n",
    "        How varied are the product prices? Are there any indicators of a significant spread in prices?\n",
    "\n",
    "    Visualizations:\n",
    "        Is there a specific price range where most products fall? Plot a histogram to visualize the distribution of product prices. \n",
    "        If its hard to read these diagrams, think why this is, and explain how it could be solved..\n",
    "        Are there products that are priced significantly higher than the rest? \n",
    "        Use a box plot to showcase the spread and potential outliers in product pricing.\"\"\"\n"
   ]
  },
  {
   "cell_type": "code",
   "execution_count": 74,
   "id": "09ee5e2d-23c8-4785-bd5a-1ddf7f49e0dd",
   "metadata": {},
   "outputs": [
    {
     "data": {
      "text/plain": [
       "89.24"
      ]
     },
     "execution_count": 74,
     "metadata": {},
     "output_type": "execute_result"
    }
   ],
   "source": [
    "df['price'].mean().round(2) #calculate mean for price / AVERAGE price"
   ]
  },
  {
   "cell_type": "code",
   "execution_count": 78,
   "id": "3faa7240-0aa8-469c-9abd-cedf50353262",
   "metadata": {},
   "outputs": [
    {
     "data": {
      "text/plain": [
       "19.09"
      ]
     },
     "execution_count": 78,
     "metadata": {},
     "output_type": "execute_result"
    }
   ],
   "source": [
    "df['price'].median() #calculate median for price / MIDDLE VALUE"
   ]
  },
  {
   "cell_type": "code",
   "execution_count": 80,
   "id": "85f94794-466d-4dcc-9699-8e5b9b9a3b59",
   "metadata": {},
   "outputs": [
    {
     "data": {
      "text/plain": [
       "0    9.99\n",
       "Name: price, dtype: float64"
      ]
     },
     "execution_count": 80,
     "metadata": {},
     "output_type": "execute_result"
    }
   ],
   "source": [
    "df['price'].mode() #calculate mode for price / MOST COMMON"
   ]
  },
  {
   "cell_type": "code",
   "execution_count": null,
   "id": "20e0afea-ad86-490a-9f7a-aa29494e9ac2",
   "metadata": {},
   "outputs": [],
   "source": [
    "#average price at 89.2 is much higher than mode at 9.99 => suggests outliers"
   ]
  },
  {
   "cell_type": "code",
   "execution_count": 96,
   "id": "62bce041-2467-41f9-81f6-6b007cf61f72",
   "metadata": {},
   "outputs": [
    {
     "data": {
      "text/plain": [
       "count   2443651.00\n",
       "mean         89.24\n",
       "std         345.61\n",
       "min           0.00\n",
       "25%           9.99\n",
       "50%          19.09\n",
       "75%          45.99\n",
       "max      100000.00\n",
       "Name: price, dtype: float64"
      ]
     },
     "execution_count": 96,
     "metadata": {},
     "output_type": "execute_result"
    }
   ],
   "source": [
    "pd.set_option('display.float_format', '{:.2f}'.format)\n",
    "df['price'].describe()"
   ]
  },
  {
   "cell_type": "code",
   "execution_count": 102,
   "id": "58c7c029-d646-4162-bd12-288ece8b95ff",
   "metadata": {},
   "outputs": [
    {
     "data": {
      "text/plain": [
       "119445.43644263712"
      ]
     },
     "execution_count": 102,
     "metadata": {},
     "output_type": "execute_result"
    }
   ],
   "source": [
    "np.var(df['price'])"
   ]
  },
  {
   "cell_type": "code",
   "execution_count": null,
   "id": "c130f727-8aeb-42ef-9f0f-634550d5cca2",
   "metadata": {},
   "outputs": [],
   "source": [
    "#comments\n",
    "#the variance \n",
    "#median price is 19.09, which is much lower than the mean of 89.24. \n",
    "#it suggests that the data is positively skewed—there are a few very high values that are pulling the mean up\n",
    "#while the majority of prices are below the mean\n",
    "#standard deviation of 345.6 also suggest a large dispersion of data and extreme outliers with max 100000"
   ]
  },
  {
   "cell_type": "code",
   "execution_count": 136,
   "id": "6982406e-3859-444a-91dc-7366f1989064",
   "metadata": {},
   "outputs": [
    {
     "data": {
      "text/plain": [
       "<Axes: xlabel='price', ylabel='Count'>"
      ]
     },
     "execution_count": 136,
     "metadata": {},
     "output_type": "execute_result"
    },
    {
     "data": {
      "image/png": "[encoded data removed]",
      "text/plain": [
       "<Figure size 640x480 with 1 Axes>"
      ]
     },
     "metadata": {},
     "output_type": "display_data"
    }
   ],
   "source": [
    "#histogram for distribution of product price\n",
    "\n",
    "sns.histplot(df['price'], kde=True, bins=5, color=\"green\")\n"
   ]
  },
  {
   "cell_type": "code",
   "execution_count": 118,
   "id": "4436b69b-821b-4943-8f92-9e126edda6f6",
   "metadata": {},
   "outputs": [
    {
     "data": {
      "text/plain": [
       "<Axes: ylabel='price'>"
      ]
     },
     "execution_count": 118,
     "metadata": {},
     "output_type": "execute_result"
    },
    {
     "data": {
      "image/png": "[encoded data removed]",
      "text/plain": [
       "<Figure size 640x480 with 1 Axes>"
      ]
     },
     "metadata": {},
     "output_type": "display_data"
    }
   ],
   "source": [
    "sns.boxplot(data = df['price'], color=\"lightblue\")"
   ]
  },
  {
   "cell_type": "code",
   "execution_count": null,
   "id": "e25b6638-fdad-45f4-a5e7-86a01660247d",
   "metadata": {},
   "outputs": [],
   "source": [
    "# 2 products are price significantly higher than the rest at 80K and 100K"
   ]
  },
  {
   "cell_type": "code",
   "execution_count": null,
   "id": "8b500d96-6607-4a6d-839e-0155ce8c72a2",
   "metadata": {},
   "outputs": [],
   "source": [
    "#it is very difficult to read the visualizations due to the presence of heavy outliers\n",
    "#they could be removed for better readability"
   ]
  },
  {
   "cell_type": "code",
   "execution_count": null,
   "id": "08803f08-0b53-4c97-a86d-9681b51c6630",
   "metadata": {},
   "outputs": [],
   "source": [
    "\"\"\"Part 3: Unpacking Product Ratings\n",
    "\n",
    "Business Question: How do customers rate products on Amazon UK, and are there any patterns or tendencies in the ratings?\n",
    "\n",
    "    Measures of Centrality:\n",
    "        Calculate the mean, median, and mode for the rating of products.\n",
    "        How do customers generally rate products? Is there a common trend?\n",
    "\n",
    "    Measures of Dispersion:\n",
    "        Determine the variance, standard deviation, and interquartile range for product rating.\n",
    "        Are the ratings consistent, or is there a wide variation in customer feedback?\n",
    "\n",
    "    Shape of the Distribution:\n",
    "        Calculate the skewness and kurtosis for the rating column.\n",
    "        Are the ratings normally distributed, or do they lean towards higher or lower values?\n",
    "\n",
    "    Visualizations:\n",
    "        Plot a histogram to visualize the distribution of product ratings. Is there a specific rating that is more common?\"\"\"\n"
   ]
  },
  {
   "cell_type": "code",
   "execution_count": 158,
   "id": "bf2ea6a7-5833-4882-917e-72d92fa59c5b",
   "metadata": {},
   "outputs": [
    {
     "name": "stdout",
     "output_type": "stream",
     "text": [
      "Max:  5.0\n",
      "Min:  0.0\n",
      "Mean:  2.15\n",
      "Median:  0.0\n",
      "Mode:  0.0\n"
     ]
    }
   ],
   "source": [
    "#mesures of centrality\n",
    "print(\"Max: \",df['stars'].max())\n",
    "print(\"Min: \",df['stars'].min())\n",
    "print(\"Mean: \",df['stars'].mean().round(2))\n",
    "print(\"Median: \",df['stars'].median())\n",
    "print(\"Mode: \",df['stars'].mode()[0])"
   ]
  },
  {
   "cell_type": "code",
   "execution_count": 164,
   "id": "f616c5c3-d385-4066-8571-4ce2370712ce",
   "metadata": {},
   "outputs": [
    {
     "data": {
      "text/plain": [
       "stars\n",
       "0.00   50.00\n",
       "4.50    6.00\n",
       "4.60    6.00\n",
       "4.40    6.00\n",
       "5.00    5.00\n",
       "4.30    5.00\n",
       "4.70    4.00\n",
       "4.20    4.00\n",
       "4.00    3.00\n",
       "4.10    3.00\n",
       "Name: proportion, dtype: float64"
      ]
     },
     "execution_count": 164,
     "metadata": {},
     "output_type": "execute_result"
    }
   ],
   "source": [
    "proportion = df['stars'].value_counts(normalize=True).round(2)*100\n",
    "proportion.head(10)"
   ]
  },
  {
   "cell_type": "code",
   "execution_count": null,
   "id": "571b15b9-f599-45e0-8441-b3bbe9c5115c",
   "metadata": {},
   "outputs": [],
   "source": [
    "#comments on centrality\n",
    "#ratings range from 0 to 5\n",
    "#we observe a large proportion (50% of occurences) with rating=0 (equivalent to no rating?) bringing the mean and mode to 0"
   ]
  },
  {
   "cell_type": "code",
   "execution_count": 168,
   "id": "9e9c313a-160f-419d-801e-4911e4f00459",
   "metadata": {},
   "outputs": [
    {
     "name": "stdout",
     "output_type": "stream",
     "text": [
      "Mean:  2.15\n",
      "Var:  4.82\n",
      "Std:  2.19\n"
     ]
    }
   ],
   "source": [
    "#mesures of dispersion\n",
    "print(\"Mean: \",df['stars'].mean().round(2))\n",
    "print(\"Var: \",np.round(df['stars'].var(), 2))\n",
    "print(\"Std: \",np.round(df['stars'].std(),2))\n"
   ]
  },
  {
   "cell_type": "code",
   "execution_count": 174,
   "id": "60743515-88f5-4022-baf1-f8d0a922504e",
   "metadata": {},
   "outputs": [
    {
     "data": {
      "text/plain": [
       "0.25   0.00\n",
       "0.50   0.00\n",
       "0.75   4.40\n",
       "1.00   5.00\n",
       "Name: stars, dtype: float64"
      ]
     },
     "execution_count": 174,
     "metadata": {},
     "output_type": "execute_result"
    }
   ],
   "source": [
    "quartiles = df['stars'].quantile([0.25, 0.5, 0.75,1])\n",
    "quartiles"
   ]
  },
  {
   "cell_type": "code",
   "execution_count": 186,
   "id": "e2599e32-2609-4d1e-95e9-076a8106a32a",
   "metadata": {},
   "outputs": [
    {
     "name": "stdout",
     "output_type": "stream",
     "text": [
      "skew:  0.0812\n",
      "Kurtosis:  -1.926\n"
     ]
    }
   ],
   "source": [
    "print(\"skew: \", df['stars'].skew().round(4))\n",
    "print(\"Kurtosis: \", df['stars'].kurtosis().round(4))"
   ]
  },
  {
   "cell_type": "code",
   "execution_count": 188,
   "id": "ca74f0af-5b31-4452-a41f-5f9bd5dccdd5",
   "metadata": {},
   "outputs": [
    {
     "data": {
      "text/plain": [
       "<Axes: xlabel='stars', ylabel='Count'>"
      ]
     },
     "execution_count": 188,
     "metadata": {},
     "output_type": "execute_result"
    },
    {
     "data": {
      "image/png": "[encoded data removed]",
      "text/plain": [
       "<Figure size 640x480 with 1 Axes>"
      ]
     },
     "metadata": {},
     "output_type": "display_data"
    }
   ],
   "source": [
    "sns.histplot(df['stars'], kde=True, bins=30, color=\"salmon\")"
   ]
  },
  {
   "cell_type": "code",
   "execution_count": null,
   "id": "a39ae266-430a-4285-8aae-c64f96b004c3",
   "metadata": {},
   "outputs": [],
   "source": [
    "#comments\n",
    "#rating =o is an enormous outlier\n",
    "#for the rest, the rating is mainly grouped around the 4-5 mark\n",
    "#excluding the outlier=0, the rest of the distribution shows a left (negative) skew"
   ]
  }
 ],
 "metadata": {
  "kernelspec": {
   "display_name": "Python 3 (ipykernel)",
   "language": "python",
   "name": "python3"
  },
  "language_info": {
   "codemirror_mode": {
    "name": "ipython",
    "version": 3
   },
   "file_extension": ".py",
   "mimetype": "text/x-python",
   "name": "python",
   "nbconvert_exporter": "python",
   "pygments_lexer": "ipython3",
   "version": "3.12.4"
  }
 },
 "nbformat": 4,
 "nbformat_minor": 5
}
